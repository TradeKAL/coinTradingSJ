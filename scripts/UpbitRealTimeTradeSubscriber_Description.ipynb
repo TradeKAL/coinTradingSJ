{
 "cells": [
  {
   "cell_type": "markdown",
   "metadata": {},
   "source": [
    "### UpbitRealTimeTradeSubscriber\n",
    "\n",
    "#### 설명 \n",
    "\n",
    "upbit 서버에 실시간 체결 거래를 가져오는 인스턴스로, 동기/비동기 방식으로 업비트의 실시간 체결 정보를 가져올 수 있습니다. 총 3가지의 방식을 지원합니다"
   ]
  },
  {
   "cell_type": "code",
   "execution_count": 1,
   "metadata": {},
   "outputs": [],
   "source": [
    "import sys\n",
    "sys.path.append(\"../\")\n",
    "\n",
    "from app.exchange import UpbitRealTimeTradeSubscriber"
   ]
  },
  {
   "cell_type": "markdown",
   "metadata": {},
   "source": [
    "### 1. 동기 메서드 호출 방식"
   ]
  },
  {
   "cell_type": "code",
   "execution_count": 2,
   "metadata": {},
   "outputs": [
    {
     "name": "stdout",
     "output_type": "stream",
     "text": [
      "b'{\"type\":\"trade\",\"code\":\"KRW-BTC\",\"timestamp\":1621681821595,\"trade_date\":\"2021-05-22\",\"trade_time\":\"11:10:21\",\"trade_timestamp\":1621681821000,\"trade_price\":47540000.0,\"trade_volume\":0.00476174,\"ask_bid\":\"ASK\",\"prev_closing_price\":49112000.00000000,\"change\":\"FALL\",\"change_price\":1572000.00000000,\"sequential_id\":1621681821000000,\"stream_type\":\"REALTIME\"}'\n"
     ]
    }
   ],
   "source": [
    "subscriber = UpbitRealTimeTradeSubscriber(\"trade\", isOnlyRealtime=True)\n",
    "\n",
    "print(subscriber.subscribe())"
   ]
  },
  {
   "cell_type": "markdown",
   "metadata": {},
   "source": [
    "### 2. 동기 제너레이터 호출 방식"
   ]
  },
  {
   "cell_type": "code",
   "execution_count": 3,
   "metadata": {},
   "outputs": [
    {
     "name": "stdout",
     "output_type": "stream",
     "text": [
      "b'{\"type\":\"trade\",\"code\":\"KRW-BTC\",\"timestamp\":1621681821808,\"trade_date\":\"2021-05-22\",\"trade_time\":\"11:10:21\",\"trade_timestamp\":1621681821000,\"trade_price\":47515000.0,\"trade_volume\":0.00907034,\"ask_bid\":\"BID\",\"prev_closing_price\":49112000.00000000,\"change\":\"FALL\",\"change_price\":1597000.00000000,\"sequential_id\":1621681821000001,\"stream_type\":\"REALTIME\"}'\n"
     ]
    }
   ],
   "source": [
    "subscriber = UpbitRealTimeTradeSubscriber(\"trade\", isOnlyRealtime=True)\n",
    "for message in subscriber:\n",
    "    print(message)\n",
    "    break\n"
   ]
  },
  {
   "cell_type": "markdown",
   "metadata": {},
   "source": [
    "### 3. 비동기 방식"
   ]
  },
  {
   "cell_type": "code",
   "execution_count": 4,
   "metadata": {},
   "outputs": [
    {
     "data": {
      "text/plain": [
       "<Task pending name='Task-1' coro=<run() running at <ipython-input-4-0752a1314387>:3>>"
      ]
     },
     "execution_count": 4,
     "metadata": {},
     "output_type": "execute_result"
    },
    {
     "name": "stdout",
     "output_type": "stream",
     "text": [
      "b'{\"type\":\"trade\",\"code\":\"KRW-BTC\",\"timestamp\":1621681822201,\"trade_date\":\"2021-05-22\",\"trade_time\":\"11:10:21\",\"trade_timestamp\":1621681821000,\"trade_price\":47540000.0,\"trade_volume\":0.00461263,\"ask_bid\":\"ASK\",\"prev_closing_price\":49112000.00000000,\"change\":\"FALL\",\"change_price\":1572000.00000000,\"sequential_id\":1621681821000008,\"stream_type\":\"REALTIME\"}'\n"
     ]
    }
   ],
   "source": [
    "import asyncio\n",
    "\n",
    "async def run():\n",
    "    subscriber = UpbitRealTimeTradeSubscriber(\"trade\", isOnlyRealtime=True)\n",
    "    async for response in subscriber:\n",
    "        print(response)\n",
    "        break\n",
    "        \n",
    "loop = asyncio.get_event_loop()\n",
    "loop.create_task(run())"
   ]
  }
 ],
 "metadata": {
  "kernelspec": {
   "display_name": "Python 3",
   "language": "python",
   "name": "python3"
  },
  "language_info": {
   "codemirror_mode": {
    "name": "ipython",
    "version": 3
   },
   "file_extension": ".py",
   "mimetype": "text/x-python",
   "name": "python",
   "nbconvert_exporter": "python",
   "pygments_lexer": "ipython3",
   "version": "3.8.3"
  }
 },
 "nbformat": 4,
 "nbformat_minor": 4
}
