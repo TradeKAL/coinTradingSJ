{
 "cells": [
  {
   "cell_type": "markdown",
   "metadata": {},
   "source": [
    "### Publisher Consumer\n",
    "\n",
    "#### 설명 \n",
    "\n",
    "기본적으로 메시지큐로 RabbitMQ를 활용하고 있습니다. 이를 통해 어떤 식으로 데이터를 주고 받는지를 확인해봅시다"
   ]
  },
  {
   "cell_type": "code",
   "execution_count": 1,
   "metadata": {},
   "outputs": [],
   "source": [
    "import sys\n",
    "sys.path.append(\"../\")\n",
    "\n",
    "from app.exchange import UpbitRealTimeTradeSubscriber\n",
    "from app.publisher import RabbitMQPublisher\n",
    "from app.consumer import RabbitMQConsumerFactory"
   ]
  },
  {
   "cell_type": "markdown",
   "metadata": {},
   "source": [
    "### 1. Publisher 등록하기"
   ]
  },
  {
   "cell_type": "code",
   "execution_count": 2,
   "metadata": {},
   "outputs": [],
   "source": [
    "subscriber = UpbitRealTimeTradeSubscriber(\"trade\", isOnlyRealtime=True)\n",
    "\n",
    "exchange_name = \"helloWorld\"\n",
    "\n",
    "publisher = RabbitMQPublisher(exchange_name)"
   ]
  },
  {
   "cell_type": "markdown",
   "metadata": {},
   "source": [
    "### 2. Consumer 등록하기"
   ]
  },
  {
   "cell_type": "code",
   "execution_count": 3,
   "metadata": {},
   "outputs": [],
   "source": [
    "callback1 = lambda msg : print(\"callback1 : \", msg)\n",
    "callback2 = lambda msg : print(\"callback2 : \", msg)\n",
    "\n",
    "consumer1 = RabbitMQConsumerFactory(callback1, exchange_name)\n",
    "consumer2 = RabbitMQConsumerFactory(callback2, exchange_name)"
   ]
  },
  {
   "cell_type": "markdown",
   "metadata": {},
   "source": [
    "### 3. 3개의 message를 생성 후 publishing 수행하기"
   ]
  },
  {
   "cell_type": "code",
   "execution_count": 8,
   "metadata": {},
   "outputs": [
    {
     "name": "stdout",
     "output_type": "stream",
     "text": [
      "b'{\"type\":\"trade\",\"code\":\"KRW-BTC\",\"timestamp\":1621691608932,\"trade_date\":\"2021-05-22\",\"trade_time\":\"13:53:28\",\"trade_timestamp\":1621691608000,\"trade_price\":47989000.0,\"trade_volume\":0.00020838,\"ask_bid\":\"BID\",\"prev_closing_price\":49112000.00000000,\"change\":\"FALL\",\"change_price\":1123000.00000000,\"sequential_id\":1621691608000002,\"stream_type\":\"REALTIME\"}'\n",
      "b'{\"type\":\"trade\",\"code\":\"KRW-BTC\",\"timestamp\":1621691610049,\"trade_date\":\"2021-05-22\",\"trade_time\":\"13:53:29\",\"trade_timestamp\":1621691609000,\"trade_price\":47913000.0,\"trade_volume\":0.00350935,\"ask_bid\":\"ASK\",\"prev_closing_price\":49112000.00000000,\"change\":\"FALL\",\"change_price\":1199000.00000000,\"sequential_id\":1621691609000000,\"stream_type\":\"REALTIME\"}'\n",
      "b'{\"type\":\"trade\",\"code\":\"KRW-BTC\",\"timestamp\":1621691610106,\"trade_date\":\"2021-05-22\",\"trade_time\":\"13:53:29\",\"trade_timestamp\":1621691609000,\"trade_price\":47915000.0,\"trade_volume\":0.00346328,\"ask_bid\":\"BID\",\"prev_closing_price\":49112000.00000000,\"change\":\"FALL\",\"change_price\":1197000.00000000,\"sequential_id\":1621691609000001,\"stream_type\":\"REALTIME\"}'\n"
     ]
    }
   ],
   "source": [
    "# 업비트에서 데이터를 받아오는 *구독* 인스턴스 생성\n",
    "subscriber = UpbitRealTimeTradeSubscriber(\"trade\", isOnlyRealtime=True)\n",
    "\n",
    "for i in range(3):\n",
    "    message = subscriber.subscribe()\n",
    "    print(message)\n",
    "    publisher.publish(message)"
   ]
  },
  {
   "cell_type": "markdown",
   "metadata": {},
   "source": [
    "### 4. consumer 시작하기"
   ]
  },
  {
   "cell_type": "code",
   "execution_count": 9,
   "metadata": {},
   "outputs": [
    {
     "name": "stdout",
     "output_type": "stream",
     "text": [
      "callback1 :  b'{\"type\":\"trade\",\"code\":\"KRW-BTC\",\"timestamp\":1621691608932,\"trade_date\":\"2021-05-22\",\"trade_time\":\"13:53:28\",\"trade_timestamp\":1621691608000,\"trade_price\":47989000.0,\"trade_volume\":0.00020838,\"ask_bid\":\"BID\",\"prev_closing_price\":49112000.00000000,\"change\":\"FALL\",\"change_price\":1123000.00000000,\"sequential_id\":1621691608000002,\"stream_type\":\"REALTIME\"}'\n",
      "callback1 :  b'{\"type\":\"trade\",\"code\":\"KRW-BTC\",\"timestamp\":1621691610049,\"trade_date\":\"2021-05-22\",\"trade_time\":\"13:53:29\",\"trade_timestamp\":1621691609000,\"trade_price\":47913000.0,\"trade_volume\":0.00350935,\"ask_bid\":\"ASK\",\"prev_closing_price\":49112000.00000000,\"change\":\"FALL\",\"change_price\":1199000.00000000,\"sequential_id\":1621691609000000,\"stream_type\":\"REALTIME\"}'\n",
      "callback1 :  b'{\"type\":\"trade\",\"code\":\"KRW-BTC\",\"timestamp\":1621691610106,\"trade_date\":\"2021-05-22\",\"trade_time\":\"13:53:29\",\"trade_timestamp\":1621691609000,\"trade_price\":47915000.0,\"trade_volume\":0.00346328,\"ask_bid\":\"BID\",\"prev_closing_price\":49112000.00000000,\"change\":\"FALL\",\"change_price\":1197000.00000000,\"sequential_id\":1621691609000001,\"stream_type\":\"REALTIME\"}'\n",
      "종료\n"
     ]
    }
   ],
   "source": [
    "try: \n",
    "    consumer1.start()\n",
    "except KeyboardInterrupt:\n",
    "    print(\"종료\")"
   ]
  },
  {
   "cell_type": "code",
   "execution_count": 10,
   "metadata": {},
   "outputs": [
    {
     "name": "stdout",
     "output_type": "stream",
     "text": [
      "callback2 :  b'{\"type\":\"trade\",\"code\":\"KRW-BTC\",\"timestamp\":1621691608932,\"trade_date\":\"2021-05-22\",\"trade_time\":\"13:53:28\",\"trade_timestamp\":1621691608000,\"trade_price\":47989000.0,\"trade_volume\":0.00020838,\"ask_bid\":\"BID\",\"prev_closing_price\":49112000.00000000,\"change\":\"FALL\",\"change_price\":1123000.00000000,\"sequential_id\":1621691608000002,\"stream_type\":\"REALTIME\"}'\n",
      "callback2 :  b'{\"type\":\"trade\",\"code\":\"KRW-BTC\",\"timestamp\":1621691610049,\"trade_date\":\"2021-05-22\",\"trade_time\":\"13:53:29\",\"trade_timestamp\":1621691609000,\"trade_price\":47913000.0,\"trade_volume\":0.00350935,\"ask_bid\":\"ASK\",\"prev_closing_price\":49112000.00000000,\"change\":\"FALL\",\"change_price\":1199000.00000000,\"sequential_id\":1621691609000000,\"stream_type\":\"REALTIME\"}'\n",
      "callback2 :  b'{\"type\":\"trade\",\"code\":\"KRW-BTC\",\"timestamp\":1621691610106,\"trade_date\":\"2021-05-22\",\"trade_time\":\"13:53:29\",\"trade_timestamp\":1621691609000,\"trade_price\":47915000.0,\"trade_volume\":0.00346328,\"ask_bid\":\"BID\",\"prev_closing_price\":49112000.00000000,\"change\":\"FALL\",\"change_price\":1197000.00000000,\"sequential_id\":1621691609000001,\"stream_type\":\"REALTIME\"}'\n",
      "종료\n"
     ]
    }
   ],
   "source": [
    "try: \n",
    "    consumer2.start()\n",
    "except KeyboardInterrupt:\n",
    "    print(\"종료\")"
   ]
  }
 ],
 "metadata": {
  "kernelspec": {
   "display_name": "Python 3",
   "language": "python",
   "name": "python3"
  },
  "language_info": {
   "codemirror_mode": {
    "name": "ipython",
    "version": 3
   },
   "file_extension": ".py",
   "mimetype": "text/x-python",
   "name": "python",
   "nbconvert_exporter": "python",
   "pygments_lexer": "ipython3",
   "version": "3.8.3"
  }
 },
 "nbformat": 4,
 "nbformat_minor": 4
}
